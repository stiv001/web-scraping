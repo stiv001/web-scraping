{
 "cells": [
  {
   "cell_type": "markdown",
   "metadata": {},
   "source": [
    "# Web scraping"
   ]
  },
  {
   "cell_type": "markdown",
   "metadata": {},
   "source": [
    "Nombre:Stiv Quishpe \n",
    "\n",
    "Fecha: 29/12/2024"
   ]
  },
  {
   "cell_type": "markdown",
   "metadata": {},
   "source": [
    "Realizar las siguientes actividades \n",
    "- Revisar qué es web scraping\n",
    "- Realizar una prueba en python para dos librerías diferentes\n",
    "- Realizar scraping de un sitio web de su elección"
   ]
  },
  {
   "cell_type": "markdown",
   "metadata": {},
   "source": [
    "**¿Qué es web scraping ?**\n",
    "\n",
    "Web scraping es una técnica utilizada para extraer datos de sitios web. Este proceso implica el envío de solicitudes HTTP para obtener el contenido de una página web y luego analizar ese contenido para extraer información específica."
   ]
  },
  {
   "cell_type": "markdown",
   "metadata": {},
   "source": [
    "**Realizar una prueba en python para dos librerías diferentes** "
   ]
  },
  {
   "cell_type": "markdown",
   "metadata": {},
   "source": [
    "# BeautifulSoup"
   ]
  },
  {
   "cell_type": "markdown",
   "metadata": {},
   "source": [
    "BeautifulSoup es una biblioteca de Python utilizada para analizar documentos HTML y XML, permitiendo extraer datos de páginas web de manera sencilla. Facilita la navegación, búsqueda y modificación del árbol de análisis del documento, que se genera a partir del contenido HTML o XML. BeautifulSoup convierte el contenido de la página en un árbol de objetos Python, lo que permite acceder y manipular elementos específicos del documento mediante métodos intuitivos. Es especialmente útil para tareas de web scraping, donde se necesita extraer información estructurada de sitios web. BeautifulSoup es compatible con varios analizadores, como el analizador HTML nativo de Python y lxml, ofreciendo flexibilidad en el procesamiento de documentos. Además, maneja automáticamente las diferencias en la estructura del HTML, lo que lo hace robusto frente a errores comunes en el marcado de las páginas web."
   ]
  },
  {
   "cell_type": "code",
   "execution_count": 3,
   "metadata": {},
   "outputs": [
    {
     "name": "stdout",
     "output_type": "stream",
     "text": [
      "El nombre de la maquina es: Psycho\n",
      "El nombre de la maquina es: Dance-Samba\n",
      "El nombre de la maquina es: PequeÃ±as-Mentirosas\n",
      "El nombre de la maquina es: Veneno\n",
      "El nombre de la maquina es: Grandma\n",
      "El nombre de la maquina es: Apolos\n",
      "El nombre de la maquina es: Report\n",
      "El nombre de la maquina es: Swiss\n",
      "El nombre de la maquina es: WhereIsMyWebShell\n",
      "El nombre de la maquina es: Inclusion\n",
      "El nombre de la maquina es: Collections\n",
      "El nombre de la maquina es: Trust\n",
      "El nombre de la maquina es: Crackoff\n",
      "El nombre de la maquina es: Predictable (Muy DifÃ­cil)\n",
      "El nombre de la maquina es: BreakMySSH\n",
      "El nombre de la maquina es: NodeClimb\n",
      "El nombre de la maquina es: Library\n",
      "El nombre de la maquina es: ConsoleLog\n",
      "El nombre de la maquina es: HackZones\n",
      "El nombre de la maquina es: PingPong\n",
      "El nombre de la maquina es: FirstHacking\n",
      "El nombre de la maquina es: Reverse\n",
      "El nombre de la maquina es: MyBB\n",
      "El nombre de la maquina es: Hidden\n",
      "El nombre de la maquina es: 404-not-found\n",
      "El nombre de la maquina es: 0xc0ffee\n",
      "El nombre de la maquina es: DebugMe\n",
      "El nombre de la maquina es: Stranger\n",
      "El nombre de la maquina es: Stack\n",
      "El nombre de la maquina es: Vendetta\n",
      "El nombre de la maquina es: BuscaLove\n",
      "El nombre de la maquina es: UserSearch\n",
      "El nombre de la maquina es: Vulnerame\n",
      "El nombre de la maquina es: chmod-4755\n",
      "El nombre de la maquina es: Lfi.elf\n",
      "El nombre de la maquina es: Candy\n",
      "El nombre de la maquina es: Verdejo\n",
      "El nombre de la maquina es: HedgeHog\n",
      "El nombre de la maquina es: BorazuwarahCTF\n",
      "El nombre de la maquina es: Sender\n",
      "El nombre de la maquina es: Insecure\n",
      "El nombre de la maquina es: Upload\n",
      "El nombre de la maquina es: Domain\n",
      "El nombre de la maquina es: DevTools\n",
      "El nombre de la maquina es: Move\n",
      "El nombre de la maquina es: Database\n",
      "El nombre de la maquina es: Vacaciones\n",
      "El nombre de la maquina es: Dark\n",
      "El nombre de la maquina es: Rubiks\n",
      "El nombre de la maquina es: Forgotten_Portal\n",
      "El nombre de la maquina es: Force\n",
      "El nombre de la maquina es: SecretJenkins\n",
      "El nombre de la maquina es: HiddenCat\n",
      "El nombre de la maquina es: Fileception\n",
      "El nombre de la maquina es: HackMeDaddy\n",
      "El nombre de la maquina es: Backend\n",
      "El nombre de la maquina es: Vulnvault\n",
      "El nombre de la maquina es: Allien\n",
      "El nombre de la maquina es: HereBash\n",
      "El nombre de la maquina es: Subversion (Beta)\n",
      "El nombre de la maquina es: Reflection\n",
      "El nombre de la maquina es: Memesploit\n",
      "El nombre de la maquina es: WalkingCMS\n",
      "El nombre de la maquina es: Mirame\n",
      "El nombre de la maquina es: Rutas\n",
      "El nombre de la maquina es: NorC\n",
      "El nombre de la maquina es: ChatMe\n",
      "El nombre de la maquina es: ShowTime\n",
      "El nombre de la maquina es: Pinguinazo\n",
      "El nombre de la maquina es: Balulero\n",
      "El nombre de la maquina es: Inj3ct0rs\n",
      "El nombre de la maquina es: ChocolateLovers\n",
      "El nombre de la maquina es: Sites\n",
      "El nombre de la maquina es: Redirection\n",
      "El nombre de la maquina es: r00tless\n",
      "El nombre de la maquina es: -Pn\n",
      "El nombre de la maquina es: BruteShock\n",
      "El nombre de la maquina es: Escolares\n",
      "El nombre de la maquina es: AnonymousPingu\n",
      "El nombre de la maquina es: File\n",
      "El nombre de la maquina es: HackPenguin\n",
      "El nombre de la maquina es: FindYourStyle\n",
      "El nombre de la maquina es: Buffered\n",
      "El nombre de la maquina es: Whoiam\n",
      "El nombre de la maquina es: JenkHack\n",
      "El nombre de la maquina es: Amor\n",
      "El nombre de la maquina es: Darkweb\n",
      "El nombre de la maquina es: Asucar\n",
      "El nombre de la maquina es: Road to Olympus\n",
      "El nombre de la maquina es: AguaDeMayo\n",
      "El nombre de la maquina es: Master\n",
      "El nombre de la maquina es: SkullNet\n",
      "El nombre de la maquina es: Pressenter\n",
      "El nombre de la maquina es: Los 40 Ladrones\n",
      "El nombre de la maquina es: Picadilly\n",
      "El nombre de la maquina es: Devil\n",
      "El nombre de la maquina es: Winterfell\n",
      "El nombre de la maquina es: Mapache2\n",
      "El nombre de la maquina es: StrongJenkins\n",
      "El nombre de la maquina es: HackTheHeaven\n",
      "El nombre de la maquina es: Pntopntobarra\n",
      "El nombre de la maquina es: PyRed\n",
      "El nombre de la maquina es: Flow\n",
      "El nombre de la maquina es: LittlePivoting\n",
      "El nombre de la maquina es: DockHackLab\n",
      "El nombre de la maquina es: Paradise\n",
      "El nombre de la maquina es: SummerVibes\n",
      "El nombre de la maquina es: Bashpariencias\n",
      "El nombre de la maquina es: BigPivoting\n",
      "El nombre de la maquina es: Corruptress\n",
      "El nombre de la maquina es: Fooding\n",
      "El nombre de la maquina es: Stellarjwt\n",
      "El nombre de la maquina es: Queuemedic\n",
      "El nombre de la maquina es: ChocolateFire\n",
      "El nombre de la maquina es: DoubleTrouble\n",
      "El nombre de la maquina es: Eclipse\n",
      "El nombre de la maquina es: DockerLabs\n",
      "El nombre de la maquina es: Wallet\n",
      "El nombre de la maquina es: Cachopo\n",
      "El nombre de la maquina es: Obsession\n",
      "El nombre de la maquina es: DoubleFlow\n",
      "El nombre de la maquina es: Elevator\n",
      "El nombre de la maquina es: Cracker\n"
     ]
    }
   ],
   "source": [
    "import requests\n",
    "from bs4 import BeautifulSoup\n",
    "\n",
    "url = 'https://dockerlabs.es/'\n",
    "respuesta = requests.get(url)\n",
    "\n",
    "if respuesta.status_code == 200:\n",
    "    soup = BeautifulSoup(respuesta.text, 'html.parser')\n",
    "\n",
    "    maquinas =soup.find_all ('div',onclick= True)\n",
    "\n",
    "\n",
    "    for maquina in maquinas:\n",
    "        onclick_text = maquina['onclick']\n",
    "        nombre_maquina = onclick_text.split(\"'\")[1]\n",
    "        print ('El nombre de la maquina es:',nombre_maquina )\n",
    "\n",
    "else:\n",
    "    print('A ocurrido un error:',respuesta.status_code)\n",
    "\n",
    "\n",
    "\n",
    "\n",
    "\n",
    "\n"
   ]
  },
  {
   "cell_type": "markdown",
   "metadata": {},
   "source": [
    "# scrapy"
   ]
  },
  {
   "cell_type": "markdown",
   "metadata": {},
   "source": [
    "Scrapy es un framework de código abierto en Python diseñado para la extracción de datos de sitios web, también conocido como web scraping. Permite a los desarrolladores definir cómo navegar y extraer información de las páginas web de manera eficiente y estructurada. Scrapy utiliza spiders, que son clases definidas por el usuario que especifican cómo realizar las solicitudes HTTP y cómo procesar las respuestas. Además, Scrapy maneja automáticamente la gestión de solicitudes, el seguimiento de enlaces y la descarga de páginas, lo que facilita la recolección de grandes cantidades de datos. También incluye herramientas para la manipulación de datos extraídos, como la limpieza y el almacenamiento en diversos formatos. Su arquitectura basada en eventos permite realizar múltiples solicitudes en paralelo, lo que mejora significativamente la velocidad de scraping. Scrapy es ampliamente utilizado en proyectos de minería de datos, investigación y desarrollo de motores de búsqueda, y en cualquier aplicación que requiera la recolección de datos de la web."
   ]
  },
  {
   "cell_type": "code",
   "execution_count": null,
   "metadata": {},
   "outputs": [],
   "source": [
    "import scrapy\n",
    "from scrapy.crawler import CrawlerProcess\n",
    "\n",
    "class TitleSpider(scrapy.Spider):\n",
    "    name = \"title_spider\"\n",
    "    start_urls = [\"https://www.significados.com/programacion/\"]\n",
    "\n",
    "    def parse(self, response):\n",
    "        # Extraer y mostrar el título de la página\n",
    "        title = response.css(\"title::text\").get()\n",
    "        print(f\"Título de la página: {title}\")\n",
    "\n",
    "\n",
    "process = CrawlerProcess()\n",
    "process.crawl(TitleSpider)\n",
    "process.start()"
   ]
  },
  {
   "cell_type": "markdown",
   "metadata": {},
   "source": [
    "**Realizar scraping de un sitio web de su elección**"
   ]
  },
  {
   "cell_type": "code",
   "execution_count": 14,
   "metadata": {},
   "outputs": [
    {
     "name": "stderr",
     "output_type": "stream",
     "text": [
      "2024-12-29 22:13:14 [urllib3.connectionpool] DEBUG: Starting new HTTPS connection (1): www.significados.com:443\n",
      "2024-12-29 22:13:14 [urllib3.connectionpool] DEBUG: https://www.significados.com:443 \"GET /programacion/ HTTP/11\" 200 22410\n"
     ]
    },
    {
     "name": "stdout",
     "output_type": "stream",
     "text": [
      "Titulo de la pagina: Programación: Qué es, Concepto y Definición - Enciclopedia Significados\n"
     ]
    }
   ],
   "source": [
    "import requests\n",
    "from bs4 import BeautifulSoup\n",
    "\n",
    "url = \"https://www.significados.com/programacion/\"\n",
    "\n",
    "response = requests.get(url)\n",
    "\n",
    "if response.status_code == 200:\n",
    "    soup = BeautifulSoup(response.content, \"html.parser\")\n",
    "    title = soup.find(\"title\").get_text()\n",
    "    print(f\"Titulo de la pagina: {title}\")\n",
    "else:\n",
    "    print(f\"Error al acceder a la pagina: {response.status_code}\")"
   ]
  }
 ],
 "metadata": {
  "kernelspec": {
   "display_name": "base",
   "language": "python",
   "name": "python3"
  },
  "language_info": {
   "codemirror_mode": {
    "name": "ipython",
    "version": 3
   },
   "file_extension": ".py",
   "mimetype": "text/x-python",
   "name": "python",
   "nbconvert_exporter": "python",
   "pygments_lexer": "ipython3",
   "version": "3.12.3"
  }
 },
 "nbformat": 4,
 "nbformat_minor": 2
}
